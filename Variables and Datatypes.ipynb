{
 "cells": [
  {
   "cell_type": "code",
   "execution_count": 1,
   "id": "00c3490c",
   "metadata": {},
   "outputs": [
    {
     "name": "stdout",
     "output_type": "stream",
     "text": [
      "5\n",
      "10\n"
     ]
    }
   ],
   "source": [
    "a=10\n",
    "b=5\n",
    "a,b=b,a\n",
    "print(a)\n",
    "print(b)"
   ]
  },
  {
   "cell_type": "code",
   "execution_count": 2,
   "id": "0fccfdad",
   "metadata": {},
   "outputs": [
    {
     "name": "stdout",
     "output_type": "stream",
     "text": [
      "Enter an integer : 2\n",
      "<class 'str'>\n"
     ]
    }
   ],
   "source": [
    "num=int(input(\"Enter an integer : \"))\n",
    "str1=str(num)\n",
    "print(type(str1))"
   ]
  },
  {
   "cell_type": "code",
   "execution_count": 5,
   "id": "7e6c58e5",
   "metadata": {},
   "outputs": [
    {
     "name": "stdout",
     "output_type": "stream",
     "text": [
      "Enter a number : 17\n",
      "[3, 5, 7, 9, 17]\n"
     ]
    }
   ],
   "source": [
    "list1=[1,3,5,7,9]\n",
    "a=len(list1)\n",
    "b=int(input(\"Enter a number : \"))\n",
    "list1.append(b)\n",
    "list1.pop(0)\n",
    "print(list1)"
   ]
  },
  {
   "cell_type": "code",
   "execution_count": 8,
   "id": "7ac4ab2a",
   "metadata": {},
   "outputs": [
    {
     "name": "stdout",
     "output_type": "stream",
     "text": [
      "Enter name : Rohan\n",
      "Enter age : 24\n",
      "Hello, Rohan! You are 24 years old.\n"
     ]
    }
   ],
   "source": [
    "name=input(\"Enter name : \")\n",
    "age=int(input(\"Enter age : \"))\n",
    "print(f\"Hello, {name}! You are {age} years old.\")"
   ]
  },
  {
   "cell_type": "code",
   "execution_count": 9,
   "id": "2fd8d540",
   "metadata": {},
   "outputs": [
    {
     "name": "stdout",
     "output_type": "stream",
     "text": [
      "25\n",
      "-5\n",
      "150\n",
      "0.6666666666666666\n"
     ]
    }
   ],
   "source": [
    "a=10\n",
    "b=15\n",
    "add=a+b\n",
    "sub=a-b\n",
    "mul=a*b\n",
    "div=a/b\n",
    "print(add)\n",
    "print(sub)\n",
    "print(mul)\n",
    "print(div)"
   ]
  },
  {
   "cell_type": "code",
   "execution_count": 12,
   "id": "ab5f385f",
   "metadata": {},
   "outputs": [
    {
     "name": "stdout",
     "output_type": "stream",
     "text": [
      "20\n"
     ]
    }
   ],
   "source": [
    "MY_CONSTANT=10\n",
    "MY_CONSTANT=20\n",
    "print(MY_CONSTANT) # It won't generate an error."
   ]
  },
  {
   "cell_type": "code",
   "execution_count": 13,
   "id": "c62c9174",
   "metadata": {},
   "outputs": [
    {
     "name": "stdout",
     "output_type": "stream",
     "text": [
      "The type of variable a is  <class 'int'>\n"
     ]
    }
   ],
   "source": [
    "a=20\n",
    "b=type(a)\n",
    "print(\"The type of variable a is \",b)"
   ]
  },
  {
   "cell_type": "code",
   "execution_count": 14,
   "id": "a5cc1368",
   "metadata": {},
   "outputs": [
    {
     "name": "stdout",
     "output_type": "stream",
     "text": [
      "[0, 1, 4, 9, 16, 25, 36, 49, 64, 81, 100]\n"
     ]
    }
   ],
   "source": [
    "s=[x**2 for x in range(0,11)]\n",
    "print(s)"
   ]
  },
  {
   "cell_type": "code",
   "execution_count": 16,
   "id": "b5fc903a",
   "metadata": {},
   "outputs": [
    {
     "name": "stdout",
     "output_type": "stream",
     "text": [
      "String to Integer conversion resulted in error.\n"
     ]
    }
   ],
   "source": [
    "str2=\"Hi\"\n",
    "try:\n",
    "    a=int(str2)\n",
    "    print(a)\n",
    "except:\n",
    "    print(\"String to Integer conversion resulted in error.\")    "
   ]
  },
  {
   "cell_type": "code",
   "execution_count": 17,
   "id": "3f18d910",
   "metadata": {},
   "outputs": [
    {
     "name": "stdout",
     "output_type": "stream",
     "text": [
      "2\n"
     ]
    }
   ],
   "source": [
    "str2='2'\n",
    "try:\n",
    "    a=int(str2)\n",
    "    print(a)\n",
    "except:\n",
    "    print(\"String to Integer conversion resulted in error.\")   "
   ]
  },
  {
   "cell_type": "code",
   "execution_count": 18,
   "id": "56b53b17",
   "metadata": {},
   "outputs": [
    {
     "name": "stdout",
     "output_type": "stream",
     "text": [
      "Snake Case : 10\n",
      "Camel Case : 20\n"
     ]
    }
   ],
   "source": [
    "snake_case=10\n",
    "myCamelCase=20\n",
    "print(f\"Snake Case : {snake_case}\")\n",
    "print(f\"Camel Case : {myCamelCase}\")"
   ]
  },
  {
   "cell_type": "code",
   "execution_count": null,
   "id": "c5723969",
   "metadata": {},
   "outputs": [],
   "source": []
  }
 ],
 "metadata": {
  "kernelspec": {
   "display_name": "Python 3 (ipykernel)",
   "language": "python",
   "name": "python3"
  },
  "language_info": {
   "codemirror_mode": {
    "name": "ipython",
    "version": 3
   },
   "file_extension": ".py",
   "mimetype": "text/x-python",
   "name": "python",
   "nbconvert_exporter": "python",
   "pygments_lexer": "ipython3",
   "version": "3.11.3"
  }
 },
 "nbformat": 4,
 "nbformat_minor": 5
}
